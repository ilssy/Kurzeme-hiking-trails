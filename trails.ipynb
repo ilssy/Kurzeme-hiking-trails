{
 "cells": [
  {
   "cell_type": "markdown",
   "metadata": {},
   "source": [
    "## Nature trails\n",
    "The eighty nature trails that are available from https://www.kurzemesregions.lv/en/projects/tourism/unigreen/nature-trails/ encompass the area of Kurzeme (a region in Latvia), as well as some places in Lithuania.\n",
    "<br>\n",
    "For our upcoming trip I wanted to get the coordinates for all of the trails and put them in a `DataFrame` (with columns `Name`, `Lat`, `Lon`) to further visualise them on a map.\n"
   ]
  },
  {
   "cell_type": "code",
   "execution_count": 57,
   "metadata": {},
   "outputs": [],
   "source": [
    "# libs\n",
    "import re\n",
    "import pandas as pd\n",
    "\n",
    "import requests\n",
    "# import urllib.request\n",
    "import time\n",
    "from bs4 import BeautifulSoup\n",
    "from time import sleep\n",
    "\n",
    "import folium\n",
    "from folium.plugins import MarkerCluster\n"
   ]
  },
  {
   "cell_type": "code",
   "execution_count": 2,
   "metadata": {},
   "outputs": [],
   "source": [
    "def get_trail_names(url):\n",
    "    \"\"\"\n",
    "    Function to get all 80 trail names from the Kurzemesregions website.\n",
    "    \n",
    "    Parameters:\n",
    "    url (string): url to be webscraped from\n",
    "    \n",
    "    Returns:\n",
    "    all_trails (list): trail names from 'Brocēni forest park' (first) to 'Walking paths at Remte manor park' (last)\n",
    "    \"\"\"\n",
    "    # connect to the URL\n",
    "    response = requests.get(url)\n",
    "    # parse HTML and save to BeautifulSoup object\n",
    "    soup = BeautifulSoup(response.text, \"html.parser\")\n",
    "    # we have 80 trails in the positions 2 to 82\n",
    "    trails = soup.findAll('p')[2:82]\n",
    "    all_trails = []\n",
    "    for trail in trails:\n",
    "        all_trails.append(trail.contents[0])\n",
    "    return all_trails\n",
    "\n",
    "def get_trail_urls(url):\n",
    "    \"\"\"\n",
    "    Function to get all 80 trail URLs from the Kurzemesregions website.\n",
    "    \n",
    "    Parameters:\n",
    "    url (string): url to be webscraped from\n",
    "    \n",
    "    Returns:\n",
    "    all_urls (list): trail URLs from 'Brocēni forest park' (first) to 'Walking paths at Remte manor park' (last)\n",
    "    \"\"\"\n",
    "    # connect to the URL\n",
    "    response = requests.get(url)\n",
    "    # parse HTML and save to BeautifulSoup object\n",
    "    soup = BeautifulSoup(response.text, \"html.parser\")\n",
    "    all_hrefs = []\n",
    "    for link in soup.find_all('a'):\n",
    "        all_hrefs.append(link.get('href'))\n",
    "    all_urls = all_hrefs[19:99]\n",
    "    return all_urls\n",
    "\n",
    "def get_lat_lon_list(urls):\n",
    "    \"\"\"\n",
    "    Function to get a list of all 80 trail coordinates.\n",
    "    Includes dirty data.\n",
    "    \n",
    "    Parameters:\n",
    "    urls (list): url list to be webscraped from\n",
    "    \n",
    "    Returns:\n",
    "    lat_list (list): all latitudes\n",
    "    lon_list (list): all longitudes\n",
    "    \"\"\"\n",
    "    lat_list = []\n",
    "    lon_list = []\n",
    "    for url in urls:\n",
    "        # connect to the URL\n",
    "        response = requests.get(url)\n",
    "        # parse HTML and save to BeautifulSoup object\n",
    "        soup = BeautifulSoup(response.text, \"html.parser\")\n",
    "\n",
    "        # find latitude, add it to lat_list\n",
    "        lat = soup.body.findAll(text=re.compile('Lat[:\\s]'), limit=1)[0]\n",
    "        # if written US style (decimal with period)\n",
    "        if \",\" not in lat[5:8]:\n",
    "            # only digits and period remain in lat\n",
    "            lat = re.sub(\"[^0123456789\\.]\",\"\",lat[0:13])[0:9] # only check first part of lat string\n",
    "        # if written LV style (decimal with comma)\n",
    "        else:\n",
    "            lat = re.sub(\"[^0123456789\\.]\",\"\",lat[0:13])[0:9]\n",
    "            lat = lat[0:2] + '.' + lat[2:]\n",
    "        lat_list.append(lat)\n",
    "\n",
    "        # find longitude, add it to lon_list     \n",
    "        lon = soup.body.findAll(text=re.compile('Lon[:\\s]'), limit=1)[0]\n",
    "        # if written US style (decimal with period)\n",
    "        if \",\" not in lon[5:8]:\n",
    "            # only digits and period remain in lon\n",
    "            lon = re.sub(\"[^0123456789\\.]\",\"\",lon)[-8:]\n",
    "        # if written LV style (decimal with comma)\n",
    "        else:\n",
    "            lon = re.sub(\"[^0123456789\\.]\",\"\",lon)[-7:]\n",
    "            lon = lon[0:2] + '.' + lon[2:]   \n",
    "        lon_list.append(lon)\n",
    "        sleep(3)\n",
    "    return lat_list, lon_list\n",
    "    \n",
    "    \n"
   ]
  },
  {
   "cell_type": "code",
   "execution_count": 26,
   "metadata": {},
   "outputs": [
    {
     "name": "stdout",
     "output_type": "stream",
     "text": [
      "['Brocēni forest park', 'Ālande River Park trail', 'Horse island nature trail and Lake Liepāja boardwalk', 'Žibgrava health trail', 'Virsaiši waterfall nature trail', 'Usma Elkrags nature trail', 'Skrunda walking trail', 'Sātiņi ponds', 'Roja beach trails', 'Pēterezers nature trail', 'Mežtaka - Jūrtaka nature trail', 'Kalēti forest park trails', 'Embūte nature trail', 'Dvēseles veldzes dārzs', 'Durbe castle mound trail and Durbe Lake watching tower', 'Dunika bog trail', 'Bernāti nature trail', \"Cīrava beavers' trail\", 'Lake Būšnieki nature trail', 'Pārventa walking trail', 'Aizvīķi park', 'Aukštumala cognitive trail', 'Biking through the Lakeside', 'Biržai town pedestrian and bicycle trail', 'Cognitive path in the forest of Šipelke or Dauginčiai', 'Čužu mire trail', 'Drubazas botanical trail', 'Ecological cognitive path \"Litorina\"', 'Ēvaži nature trail', 'Fairy-tale forest trail', 'Great Ķemeri bog boardwalk', 'Horse trail and Love trail', 'Jāņupīte nature trail', 'Kolka pine trail', 'Jūrtaka', 'Kalnansi bog trail', 'Kalni nature trail', \"Kaltene birds' trail\", 'Kaltene stone ridges', 'Kaņieris castle mound nature trail', 'Kazdanga Castle trail', 'Kaņieris reeds trail', 'Kazdanga park nature trail', 'Kupskalni nature trail', 'Labanoras forest cognitive trail', 'Lake Pape trail', 'Liepāja Seaside Park', 'Mārtiņsala nature trail', 'Meironu nature trail', 'Mykitai cognitive walking trail', 'Narrow gauge railway nature trail', 'Nature path through the boulder of Šaukliai', 'Orchids trail', 'Paplatele cognitive walking trail', 'Plateliai and its surroundings', 'Pūrciems White Dune', 'Recreation Park Laumas', 'Rīva River circles', 'Rudbārži park nature trail', 'Satiķi nature trail', \"Sulphur ponds' trail\", 'Šeire cognitive walking trail', 'Šiliniškes trail', 'Šlītere nature trail', 'Talsi hillocks charm', 'Trail along River Roja', 'Trail in Karajimiškis Landscape Reserve', 'Trail in Kirkilai Landscape Reserve', 'Trail of ecological processes in Pape', 'Trail to Biržai Smardone Spring', \"Trail to Māra's chamber caves\", 'Tulkiarage cognitive path', 'Vasenieki bog trail', 'Venta River left bank trail', \"Viesata River circles' trail\", 'Ventspils Seaside Park', 'Volzbahs trail and trail to Lielbāta spring', 'Walking path along Lake Ciecere', 'Walking path Rīti', 'Walking paths at Remte manor park']\n"
     ]
    }
   ],
   "source": [
    "# set the URL to webscrape from\n",
    "url = 'https://www.kurzemesregions.lv/en/projects/tourism/unigreen/nature-trails/'\n",
    "print(get_trail_names(url))"
   ]
  },
  {
   "cell_type": "code",
   "execution_count": 27,
   "metadata": {},
   "outputs": [
    {
     "data": {
      "text/plain": [
       "['Brocēni forest park',\n",
       " 'Ālande River Park trail',\n",
       " 'Horse island nature trail and Lake Liepāja boardwalk',\n",
       " 'Žibgrava health trail',\n",
       " 'Virsaiši waterfall nature trail',\n",
       " 'Usma Elkrags nature trail',\n",
       " 'Skrunda walking trail',\n",
       " 'Sātiņi ponds',\n",
       " 'Roja beach trails',\n",
       " 'Pēterezers nature trail',\n",
       " 'Mežtaka - Jūrtaka nature trail',\n",
       " 'Kalēti forest park trails',\n",
       " 'Embūte nature trail',\n",
       " 'Dvēseles veldzes dārzs',\n",
       " 'Durbe castle mound trail and Durbe Lake watching tower',\n",
       " 'Dunika bog trail',\n",
       " 'Bernāti nature trail',\n",
       " \"Cīrava beavers' trail\",\n",
       " 'Lake Būšnieki nature trail',\n",
       " 'Pārventa walking trail',\n",
       " 'Aizvīķi park',\n",
       " 'Aukštumala cognitive trail',\n",
       " 'Biking through the Lakeside',\n",
       " 'Biržai town pedestrian and bicycle trail',\n",
       " 'Cognitive path in the forest of Šipelke or Dauginčiai',\n",
       " 'Čužu mire trail',\n",
       " 'Drubazas botanical trail',\n",
       " 'Ecological cognitive path \"Litorina\"',\n",
       " 'Ēvaži nature trail',\n",
       " 'Fairy-tale forest trail',\n",
       " 'Great Ķemeri bog boardwalk',\n",
       " 'Horse trail and Love trail',\n",
       " 'Jāņupīte nature trail',\n",
       " 'Kolka pine trail',\n",
       " 'Jūrtaka',\n",
       " 'Kalnansi bog trail',\n",
       " 'Kalni nature trail',\n",
       " \"Kaltene birds' trail\",\n",
       " 'Kaltene stone ridges',\n",
       " 'Kaņieris castle mound nature trail',\n",
       " 'Kazdanga Castle trail',\n",
       " 'Kaņieris reeds trail',\n",
       " 'Kazdanga park nature trail',\n",
       " 'Kupskalni nature trail',\n",
       " 'Labanoras forest cognitive trail',\n",
       " 'Lake Pape trail',\n",
       " 'Liepāja Seaside Park',\n",
       " 'Mārtiņsala nature trail',\n",
       " 'Meironu nature trail',\n",
       " 'Mykitai cognitive walking trail',\n",
       " 'Narrow gauge railway nature trail',\n",
       " 'Nature path through the boulder of Šaukliai',\n",
       " 'Orchids trail',\n",
       " 'Paplatele cognitive walking trail',\n",
       " 'Plateliai and its surroundings',\n",
       " 'Pūrciems White Dune',\n",
       " 'Recreation Park Laumas',\n",
       " 'Rīva River circles',\n",
       " 'Rudbārži park nature trail',\n",
       " 'Satiķi nature trail',\n",
       " \"Sulphur ponds' trail\",\n",
       " 'Šeire cognitive walking trail',\n",
       " 'Šiliniškes trail',\n",
       " 'Šlītere nature trail',\n",
       " 'Talsi hillocks charm',\n",
       " 'Trail along River Roja',\n",
       " 'Trail in Karajimiškis Landscape Reserve',\n",
       " 'Trail in Kirkilai Landscape Reserve',\n",
       " 'Trail of ecological processes in Pape',\n",
       " 'Trail to Biržai Smardone Spring',\n",
       " \"Trail to Māra's chamber caves\",\n",
       " 'Tulkiarage cognitive path',\n",
       " 'Vasenieki bog trail',\n",
       " 'Venta River left bank trail',\n",
       " \"Viesata River circles' trail\",\n",
       " 'Ventspils Seaside Park',\n",
       " 'Volzbahs trail and trail to Lielbāta spring',\n",
       " 'Walking path along Lake Ciecere',\n",
       " 'Walking path Rīti',\n",
       " 'Walking paths at Remte manor park']"
      ]
     },
     "execution_count": 27,
     "metadata": {},
     "output_type": "execute_result"
    }
   ],
   "source": [
    "trail_names = get_trail_names(url)\n",
    "trail_names"
   ]
  },
  {
   "cell_type": "code",
   "execution_count": 28,
   "metadata": {},
   "outputs": [
    {
     "data": {
      "text/plain": [
       "80"
      ]
     },
     "execution_count": 28,
     "metadata": {},
     "output_type": "execute_result"
    }
   ],
   "source": [
    "# check that there are 80 URLs\n",
    "trail_urls = get_trail_urls(url)\n",
    "len(trail_urls)"
   ]
  },
  {
   "cell_type": "code",
   "execution_count": 29,
   "metadata": {},
   "outputs": [],
   "source": [
    "latitudes, longitudes = get_lat_lon_list(trail_urls)"
   ]
  },
  {
   "cell_type": "code",
   "execution_count": 31,
   "metadata": {},
   "outputs": [
    {
     "data": {
      "text/plain": [
       "['56.66974',\n",
       " '56.53513',\n",
       " '56.51718',\n",
       " '56.98428',\n",
       " '57.09522',\n",
       " '57.20721',\n",
       " '56.67338',\n",
       " '56.62741',\n",
       " '57.50994',\n",
       " '57.65414',\n",
       " '57.32788',\n",
       " '56.35929',\n",
       " '56.50560',\n",
       " '56.727804',\n",
       " '56.59782',\n",
       " '56.28120',\n",
       " '56.32893',\n",
       " '56.73578',\n",
       " '57.45294',\n",
       " '56.97075',\n",
       " '56.334407',\n",
       " '55.38786',\n",
       " '55.32893',\n",
       " '56.20173',\n",
       " '55.95135',\n",
       " '57.01956',\n",
       " '57.03040',\n",
       " '55.79894',\n",
       " '57.67759',\n",
       " '57.02073',\n",
       " '56.91661',\n",
       " '57.02451',\n",
       " '57.11190',\n",
       " '57.75630',\n",
       " '56.06945',\n",
       " '56.90632',\n",
       " '56.45871',\n",
       " '57.44570',\n",
       " '57.45806',\n",
       " '56.99197',\n",
       " '56.73229',\n",
       " '56.99763',\n",
       " '56.72480',\n",
       " '56.99165',\n",
       " '55.26376',\n",
       " '56.15068',\n",
       " '56.50629',\n",
       " '56.97058',\n",
       " '55.33182',\n",
       " '56.12722',\n",
       " '57.68406',\n",
       " '56.12609',\n",
       " '57.25805',\n",
       " '56.04684',\n",
       " '56.04229',\n",
       " '57.57676',\n",
       " '57.37181',\n",
       " '56.97027',\n",
       " '56.64482',\n",
       " '56.80334',\n",
       " '56.96522',\n",
       " '56.04841',\n",
       " '55.38102',\n",
       " '57.62650',\n",
       " '57.24411',\n",
       " '57.50824',\n",
       " '56.20586',\n",
       " '56.24849',\n",
       " '56.15066',\n",
       " '56.20241',\n",
       " '57.08240',\n",
       " '55.35644',\n",
       " '57.35689',\n",
       " '56.96741',\n",
       " '56.82316',\n",
       " '57.38586',\n",
       " '56.43446',\n",
       " '56.68010',\n",
       " '57.25265',\n",
       " '56.73886']"
      ]
     },
     "execution_count": 31,
     "metadata": {},
     "output_type": "execute_result"
    }
   ],
   "source": [
    "latitudes"
   ]
  },
  {
   "cell_type": "code",
   "execution_count": 32,
   "metadata": {},
   "outputs": [
    {
     "data": {
      "text/plain": [
       "['22.56860',\n",
       " '21.16260',\n",
       " '21.03084',\n",
       " '21.57882',\n",
       " '22.54177',\n",
       " '22.15261',\n",
       " '22.02398',\n",
       " '22.34980',\n",
       " '22.79975',\n",
       " '22.27086',\n",
       " '23.12750',\n",
       " '21.48929',\n",
       " '21.81922',\n",
       " '21.09308',\n",
       " '21.34384',\n",
       " '01.38282',\n",
       " '20.99273',\n",
       " '21.38335',\n",
       " '21.62905',\n",
       " '21.98025',\n",
       " '1.724638',\n",
       " '21.35243',\n",
       " '26.10224',\n",
       " '24.75408',\n",
       " '21.53947',\n",
       " '22.77878',\n",
       " '22.59662',\n",
       " '21.06731',\n",
       " '22.56800',\n",
       " '22.64499',\n",
       " '23.46481',\n",
       " '22.59271',\n",
       " '23.04368',\n",
       " '22.59131',\n",
       " '21.06473',\n",
       " '22.39933',\n",
       " '22.11609',\n",
       " '22.90463',\n",
       " '22.85598',\n",
       " '23.42601',\n",
       " '21.73375',\n",
       " '23.47608',\n",
       " '21.73576',\n",
       " '23.52354',\n",
       " '25.82226',\n",
       " '21.03084',\n",
       " '20.99717',\n",
       " '21.97934',\n",
       " '26.10571',\n",
       " '21.82533',\n",
       " '22.31742',\n",
       " '21.59004',\n",
       " '23.13639',\n",
       " '421.8858',\n",
       " '21.81529',\n",
       " '22.62746',\n",
       " '22.52713',\n",
       " '21.34781',\n",
       " '21.88786',\n",
       " '22.53467',\n",
       " '23.46955',\n",
       " '21.82736',\n",
       " '25.97555',\n",
       " '22.29191',\n",
       " '22.59070',\n",
       " '22.78451',\n",
       " '24.69287',\n",
       " '24.69088',\n",
       " '21.03089',\n",
       " '24.75562',\n",
       " '22.37690',\n",
       " '21.35374',\n",
       " '22.15348',\n",
       " '21.97676',\n",
       " '22.97218',\n",
       " '21.53668',\n",
       " '21.84496',\n",
       " '22.56659',\n",
       " '22.62033',\n",
       " '22.69686']"
      ]
     },
     "execution_count": 32,
     "metadata": {},
     "output_type": "execute_result"
    }
   ],
   "source": [
    "longitudes"
   ]
  },
  {
   "cell_type": "markdown",
   "metadata": {},
   "source": [
    "I expect that each <b>`latitude` starts with \"5\"</b> and each <b>`longitude` starts with \"2\"</b>."
   ]
  },
  {
   "cell_type": "code",
   "execution_count": 33,
   "metadata": {},
   "outputs": [],
   "source": [
    "def get_wrong_latitudes(lat_list):\n",
    "    \"\"\"\n",
    "    Function to get the wrong latitudes from the latitude list.\n",
    "    \n",
    "    Parameters:\n",
    "    lat_list (list): all latitudes\n",
    "    \n",
    "    Returns:\n",
    "    wrong_latitudes (list): faulty latitudes\n",
    "    \"\"\"\n",
    "    wrong_latitudes = []\n",
    "    for lat in lat_list:\n",
    "        if lat[0] != \"5\":\n",
    "            wrong_latitudes.append(lat)\n",
    "    return wrong_latitudes\n",
    "        \n",
    "    \n",
    "    \n",
    "def get_wrong_longitudes(lon_list):\n",
    "    \"\"\"\n",
    "    Function to get the wrong longitudes from the longitude list.\n",
    "    \n",
    "    Parameters:\n",
    "    lon_list (list): all longitudes\n",
    "    \n",
    "    Returns:\n",
    "    wrong_longitudes (list): faulty longitudes\n",
    "    \"\"\"\n",
    "    wrong_longitudes = []\n",
    "    for lon in lon_list:\n",
    "        if lon[0] != \"2\":\n",
    "            wrong_longitudes.append(lon)\n",
    "    return wrong_longitudes\n",
    "    "
   ]
  },
  {
   "cell_type": "code",
   "execution_count": 34,
   "metadata": {},
   "outputs": [
    {
     "data": {
      "text/plain": [
       "[]"
      ]
     },
     "execution_count": 34,
     "metadata": {},
     "output_type": "execute_result"
    }
   ],
   "source": [
    "wrong_lat_list = get_wrong_latitudes(latitudes)\n",
    "wrong_lat_list"
   ]
  },
  {
   "cell_type": "code",
   "execution_count": 35,
   "metadata": {},
   "outputs": [
    {
     "data": {
      "text/plain": [
       "['01.38282', '1.724638', '421.8858']"
      ]
     },
     "execution_count": 35,
     "metadata": {},
     "output_type": "execute_result"
    }
   ],
   "source": [
    "wrong_lon_list = get_wrong_longitudes(longitudes)\n",
    "wrong_lon_list"
   ]
  },
  {
   "cell_type": "markdown",
   "metadata": {},
   "source": [
    "So far I have:\n",
    "<br> `trail_names`, `latitudes`, `longitudes`. All of these will be part of a `DataFrame` with a name `trail_df`.\n",
    "<br> `longitudes` list still has some dirty data which I will clean manually now.\n",
    "<br> I will change the following values:\n",
    "<br> '01.38282' should be '21.38282'\n",
    "<br> '1.724638' should be '21.724638'\n",
    "<br> '421.8858' should be '21.8858'"
   ]
  },
  {
   "cell_type": "code",
   "execution_count": 36,
   "metadata": {},
   "outputs": [],
   "source": [
    "ind1 = longitudes.index('01.38282')\n",
    "ind2 = longitudes.index('1.724638')\n",
    "ind3 = longitudes.index('421.8858')"
   ]
  },
  {
   "cell_type": "code",
   "execution_count": 37,
   "metadata": {},
   "outputs": [],
   "source": [
    "longitudes[ind1] = '21.38282'\n",
    "longitudes[ind2] =  '21.724638'\n",
    "longitudes[ind3] = '21.8858'"
   ]
  },
  {
   "cell_type": "code",
   "execution_count": 38,
   "metadata": {},
   "outputs": [
    {
     "data": {
      "text/plain": [
       "['22.56860',\n",
       " '21.16260',\n",
       " '21.03084',\n",
       " '21.57882',\n",
       " '22.54177',\n",
       " '22.15261',\n",
       " '22.02398',\n",
       " '22.34980',\n",
       " '22.79975',\n",
       " '22.27086',\n",
       " '23.12750',\n",
       " '21.48929',\n",
       " '21.81922',\n",
       " '21.09308',\n",
       " '21.34384',\n",
       " '21.38282',\n",
       " '20.99273',\n",
       " '21.38335',\n",
       " '21.62905',\n",
       " '21.98025',\n",
       " '21.724638',\n",
       " '21.35243',\n",
       " '26.10224',\n",
       " '24.75408',\n",
       " '21.53947',\n",
       " '22.77878',\n",
       " '22.59662',\n",
       " '21.06731',\n",
       " '22.56800',\n",
       " '22.64499',\n",
       " '23.46481',\n",
       " '22.59271',\n",
       " '23.04368',\n",
       " '22.59131',\n",
       " '21.06473',\n",
       " '22.39933',\n",
       " '22.11609',\n",
       " '22.90463',\n",
       " '22.85598',\n",
       " '23.42601',\n",
       " '21.73375',\n",
       " '23.47608',\n",
       " '21.73576',\n",
       " '23.52354',\n",
       " '25.82226',\n",
       " '21.03084',\n",
       " '20.99717',\n",
       " '21.97934',\n",
       " '26.10571',\n",
       " '21.82533',\n",
       " '22.31742',\n",
       " '21.59004',\n",
       " '23.13639',\n",
       " '21.8858',\n",
       " '21.81529',\n",
       " '22.62746',\n",
       " '22.52713',\n",
       " '21.34781',\n",
       " '21.88786',\n",
       " '22.53467',\n",
       " '23.46955',\n",
       " '21.82736',\n",
       " '25.97555',\n",
       " '22.29191',\n",
       " '22.59070',\n",
       " '22.78451',\n",
       " '24.69287',\n",
       " '24.69088',\n",
       " '21.03089',\n",
       " '24.75562',\n",
       " '22.37690',\n",
       " '21.35374',\n",
       " '22.15348',\n",
       " '21.97676',\n",
       " '22.97218',\n",
       " '21.53668',\n",
       " '21.84496',\n",
       " '22.56659',\n",
       " '22.62033',\n",
       " '22.69686']"
      ]
     },
     "execution_count": 38,
     "metadata": {},
     "output_type": "execute_result"
    }
   ],
   "source": [
    "longitudes"
   ]
  },
  {
   "cell_type": "code",
   "execution_count": 42,
   "metadata": {},
   "outputs": [
    {
     "data": {
      "text/plain": [
       "[]"
      ]
     },
     "execution_count": 42,
     "metadata": {},
     "output_type": "execute_result"
    }
   ],
   "source": [
    "# check that no more wrong latitudes are left\n",
    "wrong_lon_list = get_wrong_longitudes(longitudes)\n",
    "wrong_lon_list"
   ]
  },
  {
   "cell_type": "markdown",
   "metadata": {},
   "source": [
    "Next, I will create the `DataFrame` `trails_df`."
   ]
  },
  {
   "cell_type": "code",
   "execution_count": 43,
   "metadata": {},
   "outputs": [],
   "source": [
    "data = {'Name':trail_names, 'Lat':latitudes, 'Lon':longitudes}"
   ]
  },
  {
   "cell_type": "code",
   "execution_count": 44,
   "metadata": {},
   "outputs": [],
   "source": [
    "trail_df = pd.DataFrame(data)\n"
   ]
  },
  {
   "cell_type": "code",
   "execution_count": 45,
   "metadata": {},
   "outputs": [
    {
     "data": {
      "text/html": [
       "<div>\n",
       "<style scoped>\n",
       "    .dataframe tbody tr th:only-of-type {\n",
       "        vertical-align: middle;\n",
       "    }\n",
       "\n",
       "    .dataframe tbody tr th {\n",
       "        vertical-align: top;\n",
       "    }\n",
       "\n",
       "    .dataframe thead th {\n",
       "        text-align: right;\n",
       "    }\n",
       "</style>\n",
       "<table border=\"1\" class=\"dataframe\">\n",
       "  <thead>\n",
       "    <tr style=\"text-align: right;\">\n",
       "      <th></th>\n",
       "      <th>Name</th>\n",
       "      <th>Lat</th>\n",
       "      <th>Lon</th>\n",
       "    </tr>\n",
       "  </thead>\n",
       "  <tbody>\n",
       "    <tr>\n",
       "      <th>0</th>\n",
       "      <td>Brocēni forest park</td>\n",
       "      <td>56.66974</td>\n",
       "      <td>22.56860</td>\n",
       "    </tr>\n",
       "    <tr>\n",
       "      <th>1</th>\n",
       "      <td>Ālande River Park trail</td>\n",
       "      <td>56.53513</td>\n",
       "      <td>21.16260</td>\n",
       "    </tr>\n",
       "    <tr>\n",
       "      <th>2</th>\n",
       "      <td>Horse island nature trail and Lake Liepāja boa...</td>\n",
       "      <td>56.51718</td>\n",
       "      <td>21.03084</td>\n",
       "    </tr>\n",
       "    <tr>\n",
       "      <th>3</th>\n",
       "      <td>Žibgrava health trail</td>\n",
       "      <td>56.98428</td>\n",
       "      <td>21.57882</td>\n",
       "    </tr>\n",
       "    <tr>\n",
       "      <th>4</th>\n",
       "      <td>Virsaiši waterfall nature trail</td>\n",
       "      <td>57.09522</td>\n",
       "      <td>22.54177</td>\n",
       "    </tr>\n",
       "    <tr>\n",
       "      <th>5</th>\n",
       "      <td>Usma Elkrags nature trail</td>\n",
       "      <td>57.20721</td>\n",
       "      <td>22.15261</td>\n",
       "    </tr>\n",
       "    <tr>\n",
       "      <th>6</th>\n",
       "      <td>Skrunda walking trail</td>\n",
       "      <td>56.67338</td>\n",
       "      <td>22.02398</td>\n",
       "    </tr>\n",
       "    <tr>\n",
       "      <th>7</th>\n",
       "      <td>Sātiņi ponds</td>\n",
       "      <td>56.62741</td>\n",
       "      <td>22.34980</td>\n",
       "    </tr>\n",
       "    <tr>\n",
       "      <th>8</th>\n",
       "      <td>Roja beach trails</td>\n",
       "      <td>57.50994</td>\n",
       "      <td>22.79975</td>\n",
       "    </tr>\n",
       "    <tr>\n",
       "      <th>9</th>\n",
       "      <td>Pēterezers nature trail</td>\n",
       "      <td>57.65414</td>\n",
       "      <td>22.27086</td>\n",
       "    </tr>\n",
       "  </tbody>\n",
       "</table>\n",
       "</div>"
      ],
      "text/plain": [
       "                                                Name       Lat       Lon\n",
       "0                                Brocēni forest park  56.66974  22.56860\n",
       "1                            Ālande River Park trail  56.53513  21.16260\n",
       "2  Horse island nature trail and Lake Liepāja boa...  56.51718  21.03084\n",
       "3                              Žibgrava health trail  56.98428  21.57882\n",
       "4                    Virsaiši waterfall nature trail  57.09522  22.54177\n",
       "5                          Usma Elkrags nature trail  57.20721  22.15261\n",
       "6                              Skrunda walking trail  56.67338  22.02398\n",
       "7                                       Sātiņi ponds  56.62741  22.34980\n",
       "8                                  Roja beach trails  57.50994  22.79975\n",
       "9                            Pēterezers nature trail  57.65414  22.27086"
      ]
     },
     "execution_count": 45,
     "metadata": {},
     "output_type": "execute_result"
    }
   ],
   "source": [
    "trail_df.head(10)"
   ]
  },
  {
   "cell_type": "code",
   "execution_count": 46,
   "metadata": {},
   "outputs": [
    {
     "data": {
      "text/html": [
       "<div>\n",
       "<style scoped>\n",
       "    .dataframe tbody tr th:only-of-type {\n",
       "        vertical-align: middle;\n",
       "    }\n",
       "\n",
       "    .dataframe tbody tr th {\n",
       "        vertical-align: top;\n",
       "    }\n",
       "\n",
       "    .dataframe thead th {\n",
       "        text-align: right;\n",
       "    }\n",
       "</style>\n",
       "<table border=\"1\" class=\"dataframe\">\n",
       "  <thead>\n",
       "    <tr style=\"text-align: right;\">\n",
       "      <th></th>\n",
       "      <th>Name</th>\n",
       "      <th>Lat</th>\n",
       "      <th>Lon</th>\n",
       "    </tr>\n",
       "  </thead>\n",
       "  <tbody>\n",
       "    <tr>\n",
       "      <th>75</th>\n",
       "      <td>Ventspils Seaside Park</td>\n",
       "      <td>57.38586</td>\n",
       "      <td>21.53668</td>\n",
       "    </tr>\n",
       "    <tr>\n",
       "      <th>76</th>\n",
       "      <td>Volzbahs trail and trail to Lielbāta spring</td>\n",
       "      <td>56.43446</td>\n",
       "      <td>21.84496</td>\n",
       "    </tr>\n",
       "    <tr>\n",
       "      <th>77</th>\n",
       "      <td>Walking path along Lake Ciecere</td>\n",
       "      <td>56.68010</td>\n",
       "      <td>22.56659</td>\n",
       "    </tr>\n",
       "    <tr>\n",
       "      <th>78</th>\n",
       "      <td>Walking path Rīti</td>\n",
       "      <td>57.25265</td>\n",
       "      <td>22.62033</td>\n",
       "    </tr>\n",
       "    <tr>\n",
       "      <th>79</th>\n",
       "      <td>Walking paths at Remte manor park</td>\n",
       "      <td>56.73886</td>\n",
       "      <td>22.69686</td>\n",
       "    </tr>\n",
       "  </tbody>\n",
       "</table>\n",
       "</div>"
      ],
      "text/plain": [
       "                                           Name       Lat       Lon\n",
       "75                       Ventspils Seaside Park  57.38586  21.53668\n",
       "76  Volzbahs trail and trail to Lielbāta spring  56.43446  21.84496\n",
       "77              Walking path along Lake Ciecere  56.68010  22.56659\n",
       "78                            Walking path Rīti  57.25265  22.62033\n",
       "79            Walking paths at Remte manor park  56.73886  22.69686"
      ]
     },
     "execution_count": 46,
     "metadata": {},
     "output_type": "execute_result"
    }
   ],
   "source": [
    "trail_df.tail()"
   ]
  },
  {
   "cell_type": "markdown",
   "metadata": {},
   "source": [
    "Finally, I will visualise each trail on the map."
   ]
  },
  {
   "cell_type": "code",
   "execution_count": 49,
   "metadata": {},
   "outputs": [
    {
     "data": {
      "text/plain": [
       "['57.38586', '21.53668']"
      ]
     },
     "execution_count": 49,
     "metadata": {},
     "output_type": "execute_result"
    }
   ],
   "source": [
    "coordinates = trail_df[['Lat', 'Lon']]\n",
    "coordinate_list = coordinates.values.tolist()\n",
    "coordinate_list[75]"
   ]
  },
  {
   "cell_type": "code",
   "execution_count": 58,
   "metadata": {},
   "outputs": [
    {
     "data": {
      "text/html": [
       "<div style=\"width:100%;\"><div style=\"position:relative;width:100%;height:0;padding-bottom:60%;\"><iframe src=\"data:text/html;charset=utf-8;base64,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\" style=\"position:absolute;width:100%;height:100%;left:0;top:0;border:none !important;\" allowfullscreen webkitallowfullscreen mozallowfullscreen></iframe></div></div>"
      ],
      "text/plain": [
       "<folium.folium.Map at 0x15fbac31cf8>"
      ]
     },
     "execution_count": 58,
     "metadata": {},
     "output_type": "execute_result"
    }
   ],
   "source": [
    "simple_map = folium.Map(location=[56.7, 22], zoom_start=8)\n",
    "for point in range(0, len(coordinate_list)):\n",
    "    folium.Marker(coordinate_list[point], popup=trail_df['Name'][point]).add_to(simple_map)\n",
    "simple_map"
   ]
  },
  {
   "cell_type": "markdown",
   "metadata": {},
   "source": [
    "In this map, I can see that almost all of the trails are in fact in Kurzeme or western Lithuania (near the sea)."
   ]
  },
  {
   "cell_type": "code",
   "execution_count": 59,
   "metadata": {},
   "outputs": [
    {
     "data": {
      "text/html": [
       "<div style=\"width:100%;\"><div style=\"position:relative;width:100%;height:0;padding-bottom:60%;\"><iframe src=\"data:text/html;charset=utf-8;base64,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\" style=\"position:absolute;width:100%;height:100%;left:0;top:0;border:none !important;\" allowfullscreen webkitallowfullscreen mozallowfullscreen></iframe></div></div>"
      ],
      "text/plain": [
       "<folium.folium.Map at 0x15fbac4c710>"
      ]
     },
     "execution_count": 59,
     "metadata": {},
     "output_type": "execute_result"
    }
   ],
   "source": [
    "cluster_map = folium.Map(location=[56.7, 22], tiles='CartoDB Positron', zoom_start=8)\n",
    "\n",
    "marker_cluster = MarkerCluster().add_to(cluster_map)\n",
    "\n",
    "for point in range(0, len(coordinate_list)):\n",
    "    folium.Marker(coordinate_list[point], popup=trail_df['Name'][point]).add_to(marker_cluster)\n",
    "cluster_map"
   ]
  },
  {
   "cell_type": "markdown",
   "metadata": {},
   "source": [
    "Whilst the `cluster_map` shows me the areas where most of the trails are concentrated, as well as the number of the trails, the `simple_map` seems to be more helpful in actually planning which roads to take when going on our trip."
   ]
  }
 ],
 "metadata": {
  "kernelspec": {
   "display_name": "Python 3",
   "language": "python",
   "name": "python3"
  },
  "language_info": {
   "codemirror_mode": {
    "name": "ipython",
    "version": 3
   },
   "file_extension": ".py",
   "mimetype": "text/x-python",
   "name": "python",
   "nbconvert_exporter": "python",
   "pygments_lexer": "ipython3",
   "version": "3.7.3"
  }
 },
 "nbformat": 4,
 "nbformat_minor": 2
}
