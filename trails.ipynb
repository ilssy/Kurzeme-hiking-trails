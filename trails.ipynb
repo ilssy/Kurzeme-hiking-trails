{
 "cells": [
  {
   "cell_type": "markdown",
   "metadata": {},
   "source": [
    "## Nature trails\n",
    "The eighty nature trails that are available from https://www.kurzemesregions.lv/en/projects/tourism/unigreen/nature-trails/ encompass the area of Kurzeme (a region in Latvia), as well as some places in Lithuania.\n",
    "<br>\n",
    "For our upcoming trip I wanted to get the coordinates for all of the trails and put them in a `DataFrame` (with columns `Name`, `Lat`, `Lon`) to further visualise them on a map.\n"
   ]
  },
  {
   "cell_type": "code",
   "execution_count": 57,
   "metadata": {},
   "outputs": [],
   "source": [
    "# libs\n",
    "import re\n",
    "import pandas as pd\n",
    "\n",
    "import requests\n",
    "# import urllib.request\n",
    "import time\n",
    "from bs4 import BeautifulSoup\n",
    "from time import sleep\n",
    "\n",
    "import folium\n",
    "from folium.plugins import MarkerCluster\n"
   ]
  },
  {
   "cell_type": "code",
   "execution_count": 25,
   "metadata": {},
   "outputs": [],
   "source": [
    "def get_trail_names(url):\n",
    "    \"\"\"\n",
    "    Function to get all 80 trail names from the Kurzemesregions website.\n",
    "    \n",
    "    Parameters:\n",
    "    url (string): url to be webscraped from\n",
    "    \n",
    "    Returns:\n",
    "    all_trails (list): trail names from 'Brocēni forest park' (first) to 'Walking paths at Remte manor park' (last)\n",
    "    \"\"\"\n",
    "    # connect to the URL\n",
    "    response = requests.get(url)\n",
    "    # parse HTML and save to BeautifulSoup object\n",
    "    soup = BeautifulSoup(response.text, \"html.parser\")\n",
    "    # we have 80 trails in the positions 2 to 82\n",
    "    trails = soup.findAll('p')[2:82]\n",
    "    all_trails = []\n",
    "    for trail in trails:\n",
    "        all_trails.append(trail.contents[0])\n",
    "    return all_trails\n",
    "\n",
    "def get_trail_urls(url):\n",
    "    \"\"\"\n",
    "    Function to get all 80 trail URLs from the Kurzemesregions website.\n",
    "    \n",
    "    Parameters:\n",
    "    url (string): url to be webscraped from\n",
    "    \n",
    "    Returns:\n",
    "    all_urls (list): trail URLs from 'Brocēni forest park' (first) to 'Walking paths at Remte manor park' (last)\n",
    "    \"\"\"\n",
    "    # connect to the URL\n",
    "    response = requests.get(url)\n",
    "    # parse HTML and save to BeautifulSoup object\n",
    "    soup = BeautifulSoup(response.text, \"html.parser\")\n",
    "    all_hrefs = []\n",
    "    for link in soup.find_all('a'):\n",
    "        all_hrefs.append(link.get('href'))\n",
    "    all_urls = all_hrefs[19:99]\n",
    "    return all_urls\n",
    "\n",
    "def get_lat_lon_list(urls):\n",
    "    \"\"\"\n",
    "    Function to get a list of all 80 trail coordinates.\n",
    "    Includes dirty data.\n",
    "    \n",
    "    Parameters:\n",
    "    urls (list): url list to be webscraped from\n",
    "    \n",
    "    Returns:\n",
    "    lat_list (list): all latitudes\n",
    "    lon_list (list): all longitudes\n",
    "    \"\"\"\n",
    "    lat_list = []\n",
    "    lon_list = []\n",
    "    for url in urls:\n",
    "        # connect to the URL\n",
    "        response = requests.get(url)\n",
    "        # parse HTML and save to BeautifulSoup object\n",
    "        soup = BeautifulSoup(response.text, \"html.parser\")\n",
    "\n",
    "        # find latitude, add it to lat_list\n",
    "        lat = soup.body.findAll(text=re.compile('Lat[:\\s]'), limit=1)[0]\n",
    "        # if written US style (decimal with period)\n",
    "        if \",\" not in lat[5:8]:\n",
    "            # only digits and period remain in lat\n",
    "            lat = re.sub(\"[^0123456789\\.]\",\"\",lat[0:13])[0:9] # only check first part of lat string\n",
    "        # if written LV style (decimal with comma)\n",
    "        else:\n",
    "            lat = re.sub(\"[^0123456789\\.]\",\"\",lat[0:13])[0:9]\n",
    "            lat = lat[0:2] + '.' + lat[2:]\n",
    "        lat_list.append(lat)\n",
    "\n",
    "        # find longitude, add it to lon_list     \n",
    "        lon = soup.body.findAll(text=re.compile('Lon[:\\s]'), limit=1)[0]\n",
    "        # if written US style (decimal with period)\n",
    "        if \",\" not in lon[5:8]:\n",
    "            # only digits and period remain in lon\n",
    "            lon = re.sub(\"[^0123456789\\.]\",\"\",lon)[-8:]\n",
    "        # if written LV style (decimal with comma)\n",
    "        else:\n",
    "            lon = re.sub(\"[^0123456789\\.]\",\"\",lon)[-7:]\n",
    "            lon = lon[0:2] + '.' + lon[2:]   \n",
    "        lon_list.append(lon)\n",
    "        sleep(1)\n",
    "    return lat_list, lon_list\n",
    "    \n",
    "    \n"
   ]
  },
  {
   "cell_type": "code",
   "execution_count": 26,
   "metadata": {},
   "outputs": [
    {
     "name": "stdout",
     "output_type": "stream",
     "text": [
      "['Brocēni forest park', 'Ālande River Park trail', 'Horse island nature trail and Lake Liepāja boardwalk', 'Žibgrava health trail', 'Virsaiši waterfall nature trail', 'Usma Elkrags nature trail', 'Skrunda walking trail', 'Sātiņi ponds', 'Roja beach trails', 'Pēterezers nature trail', 'Mežtaka - Jūrtaka nature trail', 'Kalēti forest park trails', 'Embūte nature trail', 'Dvēseles veldzes dārzs', 'Durbe castle mound trail and Durbe Lake watching tower', 'Dunika bog trail', 'Bernāti nature trail', \"Cīrava beavers' trail\", 'Lake Būšnieki nature trail', 'Pārventa walking trail', 'Aizvīķi park', 'Aukštumala cognitive trail', 'Biking through the Lakeside', 'Biržai town pedestrian and bicycle trail', 'Cognitive path in the forest of Šipelke or Dauginčiai', 'Čužu mire trail', 'Drubazas botanical trail', 'Ecological cognitive path \"Litorina\"', 'Ēvaži nature trail', 'Fairy-tale forest trail', 'Great Ķemeri bog boardwalk', 'Horse trail and Love trail', 'Jāņupīte nature trail', 'Kolka pine trail', 'Jūrtaka', 'Kalnansi bog trail', 'Kalni nature trail', \"Kaltene birds' trail\", 'Kaltene stone ridges', 'Kaņieris castle mound nature trail', 'Kazdanga Castle trail', 'Kaņieris reeds trail', 'Kazdanga park nature trail', 'Kupskalni nature trail', 'Labanoras forest cognitive trail', 'Lake Pape trail', 'Liepāja Seaside Park', 'Mārtiņsala nature trail', 'Meironu nature trail', 'Mykitai cognitive walking trail', 'Narrow gauge railway nature trail', 'Nature path through the boulder of Šaukliai', 'Orchids trail', 'Paplatele cognitive walking trail', 'Plateliai and its surroundings', 'Pūrciems White Dune', 'Recreation Park Laumas', 'Rīva River circles', 'Rudbārži park nature trail', 'Satiķi nature trail', \"Sulphur ponds' trail\", 'Šeire cognitive walking trail', 'Šiliniškes trail', 'Šlītere nature trail', 'Talsi hillocks charm', 'Trail along River Roja', 'Trail in Karajimiškis Landscape Reserve', 'Trail in Kirkilai Landscape Reserve', 'Trail of ecological processes in Pape', 'Trail to Biržai Smardone Spring', \"Trail to Māra's chamber caves\", 'Tulkiarage cognitive path', 'Vasenieki bog trail', 'Venta River left bank trail', \"Viesata River circles' trail\", 'Ventspils Seaside Park', 'Volzbahs trail and trail to Lielbāta spring', 'Walking path along Lake Ciecere', 'Walking path Rīti', 'Walking paths at Remte manor park']\n"
     ]
    }
   ],
   "source": [
    "# set the URL to webscrape from\n",
    "url = 'https://www.kurzemesregions.lv/en/projects/tourism/unigreen/nature-trails/'\n",
    "print(get_trail_names(url))"
   ]
  },
  {
   "cell_type": "code",
   "execution_count": 27,
   "metadata": {},
   "outputs": [
    {
     "data": {
      "text/plain": [
       "['Brocēni forest park',\n",
       " 'Ālande River Park trail',\n",
       " 'Horse island nature trail and Lake Liepāja boardwalk',\n",
       " 'Žibgrava health trail',\n",
       " 'Virsaiši waterfall nature trail',\n",
       " 'Usma Elkrags nature trail',\n",
       " 'Skrunda walking trail',\n",
       " 'Sātiņi ponds',\n",
       " 'Roja beach trails',\n",
       " 'Pēterezers nature trail',\n",
       " 'Mežtaka - Jūrtaka nature trail',\n",
       " 'Kalēti forest park trails',\n",
       " 'Embūte nature trail',\n",
       " 'Dvēseles veldzes dārzs',\n",
       " 'Durbe castle mound trail and Durbe Lake watching tower',\n",
       " 'Dunika bog trail',\n",
       " 'Bernāti nature trail',\n",
       " \"Cīrava beavers' trail\",\n",
       " 'Lake Būšnieki nature trail',\n",
       " 'Pārventa walking trail',\n",
       " 'Aizvīķi park',\n",
       " 'Aukštumala cognitive trail',\n",
       " 'Biking through the Lakeside',\n",
       " 'Biržai town pedestrian and bicycle trail',\n",
       " 'Cognitive path in the forest of Šipelke or Dauginčiai',\n",
       " 'Čužu mire trail',\n",
       " 'Drubazas botanical trail',\n",
       " 'Ecological cognitive path \"Litorina\"',\n",
       " 'Ēvaži nature trail',\n",
       " 'Fairy-tale forest trail',\n",
       " 'Great Ķemeri bog boardwalk',\n",
       " 'Horse trail and Love trail',\n",
       " 'Jāņupīte nature trail',\n",
       " 'Kolka pine trail',\n",
       " 'Jūrtaka',\n",
       " 'Kalnansi bog trail',\n",
       " 'Kalni nature trail',\n",
       " \"Kaltene birds' trail\",\n",
       " 'Kaltene stone ridges',\n",
       " 'Kaņieris castle mound nature trail',\n",
       " 'Kazdanga Castle trail',\n",
       " 'Kaņieris reeds trail',\n",
       " 'Kazdanga park nature trail',\n",
       " 'Kupskalni nature trail',\n",
       " 'Labanoras forest cognitive trail',\n",
       " 'Lake Pape trail',\n",
       " 'Liepāja Seaside Park',\n",
       " 'Mārtiņsala nature trail',\n",
       " 'Meironu nature trail',\n",
       " 'Mykitai cognitive walking trail',\n",
       " 'Narrow gauge railway nature trail',\n",
       " 'Nature path through the boulder of Šaukliai',\n",
       " 'Orchids trail',\n",
       " 'Paplatele cognitive walking trail',\n",
       " 'Plateliai and its surroundings',\n",
       " 'Pūrciems White Dune',\n",
       " 'Recreation Park Laumas',\n",
       " 'Rīva River circles',\n",
       " 'Rudbārži park nature trail',\n",
       " 'Satiķi nature trail',\n",
       " \"Sulphur ponds' trail\",\n",
       " 'Šeire cognitive walking trail',\n",
       " 'Šiliniškes trail',\n",
       " 'Šlītere nature trail',\n",
       " 'Talsi hillocks charm',\n",
       " 'Trail along River Roja',\n",
       " 'Trail in Karajimiškis Landscape Reserve',\n",
       " 'Trail in Kirkilai Landscape Reserve',\n",
       " 'Trail of ecological processes in Pape',\n",
       " 'Trail to Biržai Smardone Spring',\n",
       " \"Trail to Māra's chamber caves\",\n",
       " 'Tulkiarage cognitive path',\n",
       " 'Vasenieki bog trail',\n",
       " 'Venta River left bank trail',\n",
       " \"Viesata River circles' trail\",\n",
       " 'Ventspils Seaside Park',\n",
       " 'Volzbahs trail and trail to Lielbāta spring',\n",
       " 'Walking path along Lake Ciecere',\n",
       " 'Walking path Rīti',\n",
       " 'Walking paths at Remte manor park']"
      ]
     },
     "execution_count": 27,
     "metadata": {},
     "output_type": "execute_result"
    }
   ],
   "source": [
    "trail_names = get_trail_names(url)\n",
    "trail_names"
   ]
  },
  {
   "cell_type": "code",
   "execution_count": 28,
   "metadata": {},
   "outputs": [
    {
     "data": {
      "text/plain": [
       "80"
      ]
     },
     "execution_count": 28,
     "metadata": {},
     "output_type": "execute_result"
    }
   ],
   "source": [
    "# check that there are 80 URLs\n",
    "trail_urls = get_trail_urls(url)\n",
    "len(trail_urls)"
   ]
  },
  {
   "cell_type": "code",
   "execution_count": 29,
   "metadata": {},
   "outputs": [],
   "source": [
    "latitudes, longitudes = get_lat_lon_list(trail_urls)"
   ]
  },
  {
   "cell_type": "code",
   "execution_count": 31,
   "metadata": {},
   "outputs": [
    {
     "data": {
      "text/plain": [
       "['56.66974',\n",
       " '56.53513',\n",
       " '56.51718',\n",
       " '56.98428',\n",
       " '57.09522',\n",
       " '57.20721',\n",
       " '56.67338',\n",
       " '56.62741',\n",
       " '57.50994',\n",
       " '57.65414',\n",
       " '57.32788',\n",
       " '56.35929',\n",
       " '56.50560',\n",
       " '56.727804',\n",
       " '56.59782',\n",
       " '56.28120',\n",
       " '56.32893',\n",
       " '56.73578',\n",
       " '57.45294',\n",
       " '56.97075',\n",
       " '56.334407',\n",
       " '55.38786',\n",
       " '55.32893',\n",
       " '56.20173',\n",
       " '55.95135',\n",
       " '57.01956',\n",
       " '57.03040',\n",
       " '55.79894',\n",
       " '57.67759',\n",
       " '57.02073',\n",
       " '56.91661',\n",
       " '57.02451',\n",
       " '57.11190',\n",
       " '57.75630',\n",
       " '56.06945',\n",
       " '56.90632',\n",
       " '56.45871',\n",
       " '57.44570',\n",
       " '57.45806',\n",
       " '56.99197',\n",
       " '56.73229',\n",
       " '56.99763',\n",
       " '56.72480',\n",
       " '56.99165',\n",
       " '55.26376',\n",
       " '56.15068',\n",
       " '56.50629',\n",
       " '56.97058',\n",
       " '55.33182',\n",
       " '56.12722',\n",
       " '57.68406',\n",
       " '56.12609',\n",
       " '57.25805',\n",
       " '56.04684',\n",
       " '56.04229',\n",
       " '57.57676',\n",
       " '57.37181',\n",
       " '56.97027',\n",
       " '56.64482',\n",
       " '56.80334',\n",
       " '56.96522',\n",
       " '56.04841',\n",
       " '55.38102',\n",
       " '57.62650',\n",
       " '57.24411',\n",
       " '57.50824',\n",
       " '56.20586',\n",
       " '56.24849',\n",
       " '56.15066',\n",
       " '56.20241',\n",
       " '57.08240',\n",
       " '55.35644',\n",
       " '57.35689',\n",
       " '56.96741',\n",
       " '56.82316',\n",
       " '57.38586',\n",
       " '56.43446',\n",
       " '56.68010',\n",
       " '57.25265',\n",
       " '56.73886']"
      ]
     },
     "execution_count": 31,
     "metadata": {},
     "output_type": "execute_result"
    }
   ],
   "source": [
    "latitudes"
   ]
  },
  {
   "cell_type": "code",
   "execution_count": 32,
   "metadata": {},
   "outputs": [
    {
     "data": {
      "text/plain": [
       "['22.56860',\n",
       " '21.16260',\n",
       " '21.03084',\n",
       " '21.57882',\n",
       " '22.54177',\n",
       " '22.15261',\n",
       " '22.02398',\n",
       " '22.34980',\n",
       " '22.79975',\n",
       " '22.27086',\n",
       " '23.12750',\n",
       " '21.48929',\n",
       " '21.81922',\n",
       " '21.09308',\n",
       " '21.34384',\n",
       " '01.38282',\n",
       " '20.99273',\n",
       " '21.38335',\n",
       " '21.62905',\n",
       " '21.98025',\n",
       " '1.724638',\n",
       " '21.35243',\n",
       " '26.10224',\n",
       " '24.75408',\n",
       " '21.53947',\n",
       " '22.77878',\n",
       " '22.59662',\n",
       " '21.06731',\n",
       " '22.56800',\n",
       " '22.64499',\n",
       " '23.46481',\n",
       " '22.59271',\n",
       " '23.04368',\n",
       " '22.59131',\n",
       " '21.06473',\n",
       " '22.39933',\n",
       " '22.11609',\n",
       " '22.90463',\n",
       " '22.85598',\n",
       " '23.42601',\n",
       " '21.73375',\n",
       " '23.47608',\n",
       " '21.73576',\n",
       " '23.52354',\n",
       " '25.82226',\n",
       " '21.03084',\n",
       " '20.99717',\n",
       " '21.97934',\n",
       " '26.10571',\n",
       " '21.82533',\n",
       " '22.31742',\n",
       " '21.59004',\n",
       " '23.13639',\n",
       " '421.8858',\n",
       " '21.81529',\n",
       " '22.62746',\n",
       " '22.52713',\n",
       " '21.34781',\n",
       " '21.88786',\n",
       " '22.53467',\n",
       " '23.46955',\n",
       " '21.82736',\n",
       " '25.97555',\n",
       " '22.29191',\n",
       " '22.59070',\n",
       " '22.78451',\n",
       " '24.69287',\n",
       " '24.69088',\n",
       " '21.03089',\n",
       " '24.75562',\n",
       " '22.37690',\n",
       " '21.35374',\n",
       " '22.15348',\n",
       " '21.97676',\n",
       " '22.97218',\n",
       " '21.53668',\n",
       " '21.84496',\n",
       " '22.56659',\n",
       " '22.62033',\n",
       " '22.69686']"
      ]
     },
     "execution_count": 32,
     "metadata": {},
     "output_type": "execute_result"
    }
   ],
   "source": [
    "longitudes"
   ]
  },
  {
   "cell_type": "markdown",
   "metadata": {},
   "source": [
    "I expect that each <b>`latitude` starts with \"5\"</b> and each <b>`longitude` starts with \"2\"</b>."
   ]
  },
  {
   "cell_type": "code",
   "execution_count": 33,
   "metadata": {},
   "outputs": [],
   "source": [
    "def get_wrong_latitudes(lat_list):\n",
    "    \"\"\"\n",
    "    Function to get the wrong latitudes from the latitude list.\n",
    "    \n",
    "    Parameters:\n",
    "    lat_list (list): all latitudes\n",
    "    \n",
    "    Returns:\n",
    "    wrong_latitudes (list): faulty latitudes\n",
    "    \"\"\"\n",
    "    wrong_latitudes = []\n",
    "    for lat in lat_list:\n",
    "        if lat[0] != \"5\":\n",
    "            wrong_latitudes.append(lat)\n",
    "    return wrong_latitudes\n",
    "        \n",
    "    \n",
    "    \n",
    "def get_wrong_longitudes(lon_list):\n",
    "    \"\"\"\n",
    "    Function to get the wrong longitudes from the longitude list.\n",
    "    \n",
    "    Parameters:\n",
    "    lon_list (list): all longitudes\n",
    "    \n",
    "    Returns:\n",
    "    wrong_longitudes (list): faulty longitudes\n",
    "    \"\"\"\n",
    "    wrong_longitudes = []\n",
    "    for lon in lon_list:\n",
    "        if lon[0] != \"2\":\n",
    "            wrong_longitudes.append(lon)\n",
    "    return wrong_longitudes\n",
    "    "
   ]
  },
  {
   "cell_type": "code",
   "execution_count": 34,
   "metadata": {},
   "outputs": [
    {
     "data": {
      "text/plain": [
       "[]"
      ]
     },
     "execution_count": 34,
     "metadata": {},
     "output_type": "execute_result"
    }
   ],
   "source": [
    "wrong_lat_list = get_wrong_latitudes(latitudes)\n",
    "wrong_lat_list"
   ]
  },
  {
   "cell_type": "code",
   "execution_count": 35,
   "metadata": {},
   "outputs": [
    {
     "data": {
      "text/plain": [
       "['01.38282', '1.724638', '421.8858']"
      ]
     },
     "execution_count": 35,
     "metadata": {},
     "output_type": "execute_result"
    }
   ],
   "source": [
    "wrong_lon_list = get_wrong_longitudes(longitudes)\n",
    "wrong_lon_list"
   ]
  },
  {
   "cell_type": "markdown",
   "metadata": {},
   "source": [
    "So far I have:\n",
    "<br> `trail_names`, `latitudes`, `longitudes`. All of these will be part of a `DataFrame` with a name `trail_df`.\n",
    "<br> `longitudes` list still has some dirty data which I will clean manually now.\n",
    "<br> I will change the following values:\n",
    "<br> '01.38282' should be '21.38282'\n",
    "<br> '1.724638' should be '21.724638'\n",
    "<br> '421.8858' should be '21.8858'"
   ]
  },
  {
   "cell_type": "code",
   "execution_count": 36,
   "metadata": {},
   "outputs": [],
   "source": [
    "ind1 = longitudes.index('01.38282')\n",
    "ind2 = longitudes.index('1.724638')\n",
    "ind3 = longitudes.index('421.8858')"
   ]
  },
  {
   "cell_type": "code",
   "execution_count": 37,
   "metadata": {},
   "outputs": [],
   "source": [
    "longitudes[ind1] = '21.38282'\n",
    "longitudes[ind2] =  '21.724638'\n",
    "longitudes[ind3] = '21.8858'"
   ]
  },
  {
   "cell_type": "code",
   "execution_count": 38,
   "metadata": {},
   "outputs": [
    {
     "data": {
      "text/plain": [
       "['22.56860',\n",
       " '21.16260',\n",
       " '21.03084',\n",
       " '21.57882',\n",
       " '22.54177',\n",
       " '22.15261',\n",
       " '22.02398',\n",
       " '22.34980',\n",
       " '22.79975',\n",
       " '22.27086',\n",
       " '23.12750',\n",
       " '21.48929',\n",
       " '21.81922',\n",
       " '21.09308',\n",
       " '21.34384',\n",
       " '21.38282',\n",
       " '20.99273',\n",
       " '21.38335',\n",
       " '21.62905',\n",
       " '21.98025',\n",
       " '21.724638',\n",
       " '21.35243',\n",
       " '26.10224',\n",
       " '24.75408',\n",
       " '21.53947',\n",
       " '22.77878',\n",
       " '22.59662',\n",
       " '21.06731',\n",
       " '22.56800',\n",
       " '22.64499',\n",
       " '23.46481',\n",
       " '22.59271',\n",
       " '23.04368',\n",
       " '22.59131',\n",
       " '21.06473',\n",
       " '22.39933',\n",
       " '22.11609',\n",
       " '22.90463',\n",
       " '22.85598',\n",
       " '23.42601',\n",
       " '21.73375',\n",
       " '23.47608',\n",
       " '21.73576',\n",
       " '23.52354',\n",
       " '25.82226',\n",
       " '21.03084',\n",
       " '20.99717',\n",
       " '21.97934',\n",
       " '26.10571',\n",
       " '21.82533',\n",
       " '22.31742',\n",
       " '21.59004',\n",
       " '23.13639',\n",
       " '21.8858',\n",
       " '21.81529',\n",
       " '22.62746',\n",
       " '22.52713',\n",
       " '21.34781',\n",
       " '21.88786',\n",
       " '22.53467',\n",
       " '23.46955',\n",
       " '21.82736',\n",
       " '25.97555',\n",
       " '22.29191',\n",
       " '22.59070',\n",
       " '22.78451',\n",
       " '24.69287',\n",
       " '24.69088',\n",
       " '21.03089',\n",
       " '24.75562',\n",
       " '22.37690',\n",
       " '21.35374',\n",
       " '22.15348',\n",
       " '21.97676',\n",
       " '22.97218',\n",
       " '21.53668',\n",
       " '21.84496',\n",
       " '22.56659',\n",
       " '22.62033',\n",
       " '22.69686']"
      ]
     },
     "execution_count": 38,
     "metadata": {},
     "output_type": "execute_result"
    }
   ],
   "source": [
    "longitudes"
   ]
  },
  {
   "cell_type": "code",
   "execution_count": 42,
   "metadata": {},
   "outputs": [
    {
     "data": {
      "text/plain": [
       "[]"
      ]
     },
     "execution_count": 42,
     "metadata": {},
     "output_type": "execute_result"
    }
   ],
   "source": [
    "# check that no more wrong latitudes are left\n",
    "wrong_lon_list = get_wrong_longitudes(longitudes)\n",
    "wrong_lon_list"
   ]
  },
  {
   "cell_type": "markdown",
   "metadata": {},
   "source": [
    "Next, I will create the `DataFrame` `trails_df`."
   ]
  },
  {
   "cell_type": "code",
   "execution_count": 43,
   "metadata": {},
   "outputs": [],
   "source": [
    "data = {'Name':trail_names, 'Lat':latitudes, 'Lon':longitudes}"
   ]
  },
  {
   "cell_type": "code",
   "execution_count": 44,
   "metadata": {},
   "outputs": [],
   "source": [
    "trail_df = pd.DataFrame(data)\n"
   ]
  },
  {
   "cell_type": "code",
   "execution_count": 45,
   "metadata": {},
   "outputs": [
    {
     "data": {
      "text/html": [
       "<div>\n",
       "<style scoped>\n",
       "    .dataframe tbody tr th:only-of-type {\n",
       "        vertical-align: middle;\n",
       "    }\n",
       "\n",
       "    .dataframe tbody tr th {\n",
       "        vertical-align: top;\n",
       "    }\n",
       "\n",
       "    .dataframe thead th {\n",
       "        text-align: right;\n",
       "    }\n",
       "</style>\n",
       "<table border=\"1\" class=\"dataframe\">\n",
       "  <thead>\n",
       "    <tr style=\"text-align: right;\">\n",
       "      <th></th>\n",
       "      <th>Name</th>\n",
       "      <th>Lat</th>\n",
       "      <th>Lon</th>\n",
       "    </tr>\n",
       "  </thead>\n",
       "  <tbody>\n",
       "    <tr>\n",
       "      <th>0</th>\n",
       "      <td>Brocēni forest park</td>\n",
       "      <td>56.66974</td>\n",
       "      <td>22.56860</td>\n",
       "    </tr>\n",
       "    <tr>\n",
       "      <th>1</th>\n",
       "      <td>Ālande River Park trail</td>\n",
       "      <td>56.53513</td>\n",
       "      <td>21.16260</td>\n",
       "    </tr>\n",
       "    <tr>\n",
       "      <th>2</th>\n",
       "      <td>Horse island nature trail and Lake Liepāja boa...</td>\n",
       "      <td>56.51718</td>\n",
       "      <td>21.03084</td>\n",
       "    </tr>\n",
       "    <tr>\n",
       "      <th>3</th>\n",
       "      <td>Žibgrava health trail</td>\n",
       "      <td>56.98428</td>\n",
       "      <td>21.57882</td>\n",
       "    </tr>\n",
       "    <tr>\n",
       "      <th>4</th>\n",
       "      <td>Virsaiši waterfall nature trail</td>\n",
       "      <td>57.09522</td>\n",
       "      <td>22.54177</td>\n",
       "    </tr>\n",
       "    <tr>\n",
       "      <th>5</th>\n",
       "      <td>Usma Elkrags nature trail</td>\n",
       "      <td>57.20721</td>\n",
       "      <td>22.15261</td>\n",
       "    </tr>\n",
       "    <tr>\n",
       "      <th>6</th>\n",
       "      <td>Skrunda walking trail</td>\n",
       "      <td>56.67338</td>\n",
       "      <td>22.02398</td>\n",
       "    </tr>\n",
       "    <tr>\n",
       "      <th>7</th>\n",
       "      <td>Sātiņi ponds</td>\n",
       "      <td>56.62741</td>\n",
       "      <td>22.34980</td>\n",
       "    </tr>\n",
       "    <tr>\n",
       "      <th>8</th>\n",
       "      <td>Roja beach trails</td>\n",
       "      <td>57.50994</td>\n",
       "      <td>22.79975</td>\n",
       "    </tr>\n",
       "    <tr>\n",
       "      <th>9</th>\n",
       "      <td>Pēterezers nature trail</td>\n",
       "      <td>57.65414</td>\n",
       "      <td>22.27086</td>\n",
       "    </tr>\n",
       "  </tbody>\n",
       "</table>\n",
       "</div>"
      ],
      "text/plain": [
       "                                                Name       Lat       Lon\n",
       "0                                Brocēni forest park  56.66974  22.56860\n",
       "1                            Ālande River Park trail  56.53513  21.16260\n",
       "2  Horse island nature trail and Lake Liepāja boa...  56.51718  21.03084\n",
       "3                              Žibgrava health trail  56.98428  21.57882\n",
       "4                    Virsaiši waterfall nature trail  57.09522  22.54177\n",
       "5                          Usma Elkrags nature trail  57.20721  22.15261\n",
       "6                              Skrunda walking trail  56.67338  22.02398\n",
       "7                                       Sātiņi ponds  56.62741  22.34980\n",
       "8                                  Roja beach trails  57.50994  22.79975\n",
       "9                            Pēterezers nature trail  57.65414  22.27086"
      ]
     },
     "execution_count": 45,
     "metadata": {},
     "output_type": "execute_result"
    }
   ],
   "source": [
    "trail_df.head(10)"
   ]
  },
  {
   "cell_type": "code",
   "execution_count": 46,
   "metadata": {},
   "outputs": [
    {
     "data": {
      "text/html": [
       "<div>\n",
       "<style scoped>\n",
       "    .dataframe tbody tr th:only-of-type {\n",
       "        vertical-align: middle;\n",
       "    }\n",
       "\n",
       "    .dataframe tbody tr th {\n",
       "        vertical-align: top;\n",
       "    }\n",
       "\n",
       "    .dataframe thead th {\n",
       "        text-align: right;\n",
       "    }\n",
       "</style>\n",
       "<table border=\"1\" class=\"dataframe\">\n",
       "  <thead>\n",
       "    <tr style=\"text-align: right;\">\n",
       "      <th></th>\n",
       "      <th>Name</th>\n",
       "      <th>Lat</th>\n",
       "      <th>Lon</th>\n",
       "    </tr>\n",
       "  </thead>\n",
       "  <tbody>\n",
       "    <tr>\n",
       "      <th>75</th>\n",
       "      <td>Ventspils Seaside Park</td>\n",
       "      <td>57.38586</td>\n",
       "      <td>21.53668</td>\n",
       "    </tr>\n",
       "    <tr>\n",
       "      <th>76</th>\n",
       "      <td>Volzbahs trail and trail to Lielbāta spring</td>\n",
       "      <td>56.43446</td>\n",
       "      <td>21.84496</td>\n",
       "    </tr>\n",
       "    <tr>\n",
       "      <th>77</th>\n",
       "      <td>Walking path along Lake Ciecere</td>\n",
       "      <td>56.68010</td>\n",
       "      <td>22.56659</td>\n",
       "    </tr>\n",
       "    <tr>\n",
       "      <th>78</th>\n",
       "      <td>Walking path Rīti</td>\n",
       "      <td>57.25265</td>\n",
       "      <td>22.62033</td>\n",
       "    </tr>\n",
       "    <tr>\n",
       "      <th>79</th>\n",
       "      <td>Walking paths at Remte manor park</td>\n",
       "      <td>56.73886</td>\n",
       "      <td>22.69686</td>\n",
       "    </tr>\n",
       "  </tbody>\n",
       "</table>\n",
       "</div>"
      ],
      "text/plain": [
       "                                           Name       Lat       Lon\n",
       "75                       Ventspils Seaside Park  57.38586  21.53668\n",
       "76  Volzbahs trail and trail to Lielbāta spring  56.43446  21.84496\n",
       "77              Walking path along Lake Ciecere  56.68010  22.56659\n",
       "78                            Walking path Rīti  57.25265  22.62033\n",
       "79            Walking paths at Remte manor park  56.73886  22.69686"
      ]
     },
     "execution_count": 46,
     "metadata": {},
     "output_type": "execute_result"
    }
   ],
   "source": [
    "trail_df.tail()"
   ]
  },
  {
   "cell_type": "markdown",
   "metadata": {},
   "source": [
    "Finally, I will visualise each trail on the map."
   ]
  },
  {
   "cell_type": "code",
   "execution_count": 49,
   "metadata": {},
   "outputs": [
    {
     "data": {
      "text/plain": [
       "['57.38586', '21.53668']"
      ]
     },
     "execution_count": 49,
     "metadata": {},
     "output_type": "execute_result"
    }
   ],
   "source": [
    "coordinates = trail_df[['Lat', 'Lon']]\n",
    "coordinate_list = coordinates.values.tolist()\n",
    "coordinate_list[75]"
   ]
  },
  {
   "cell_type": "code",
   "execution_count": 54,
   "metadata": {},
   "outputs": [
    {
     "data": {
      "text/html": [
       "<div style=\"width:100%;\"><div style=\"position:relative;width:100%;height:0;padding-bottom:60%;\"><iframe src=\"data:text/html;charset=utf-8;base64,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\" style=\"position:absolute;width:100%;height:100%;left:0;top:0;border:none !important;\" allowfullscreen webkitallowfullscreen mozallowfullscreen></iframe></div></div>"
      ],
      "text/plain": [
       "<folium.folium.Map at 0x15fbad9f240>"
      ]
     },
     "execution_count": 54,
     "metadata": {},
     "output_type": "execute_result"
    }
   ],
   "source": [
    "simple_map = folium.Map(location=[56.7, 22], zoom_start=8)\n",
    "for point in range(0, len(coordinate_list)):\n",
    "    folium.Marker(coordinate_list[point], popup=trail_df['Name'][point]).add_to(simple_map)\n",
    "simple_map"
   ]
  },
  {
   "cell_type": "markdown",
   "metadata": {},
   "source": [
    "In this map, I can see that almost all of the trails are in fact in Kurzeme or western Lithuania (near the sea)."
   ]
  },
  {
   "cell_type": "code",
   "execution_count": 56,
   "metadata": {},
   "outputs": [
    {
     "data": {
      "text/html": [
       "<div style=\"width:100%;\"><div style=\"position:relative;width:100%;height:0;padding-bottom:60%;\"><iframe src=\"data:text/html;charset=utf-8;base64,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\" style=\"position:absolute;width:100%;height:100%;left:0;top:0;border:none !important;\" allowfullscreen webkitallowfullscreen mozallowfullscreen></iframe></div></div>"
      ],
      "text/plain": [
       "<folium.folium.Map at 0x15fbad304a8>"
      ]
     },
     "execution_count": 56,
     "metadata": {},
     "output_type": "execute_result"
    }
   ],
   "source": [
    "cluster_map = folium.Map(location=[56.7, 22], tiles='CartoDB Positron', zoom_start=8)\n",
    "\n",
    "marker_cluster = MarkerCluster().add_to(cluster_map)\n",
    "\n",
    "for point in range(0, len(coordinate_list)):\n",
    "    folium.Marker(coordinate_list[point], popup=trail_df['Name'][point]).add_to(marker_cluster)\n",
    "cluster_map"
   ]
  },
  {
   "cell_type": "markdown",
   "metadata": {},
   "source": [
    "Whilst the `cluster_map` shows me the areas where most of the trails are concentrated, as well as the number of the trails, the `simple_map` seems to be more helpful in actually planning which roads to take when going on our trip."
   ]
  }
 ],
 "metadata": {
  "kernelspec": {
   "display_name": "Python 3",
   "language": "python",
   "name": "python3"
  },
  "language_info": {
   "codemirror_mode": {
    "name": "ipython",
    "version": 3
   },
   "file_extension": ".py",
   "mimetype": "text/x-python",
   "name": "python",
   "nbconvert_exporter": "python",
   "pygments_lexer": "ipython3",
   "version": "3.7.3"
  }
 },
 "nbformat": 4,
 "nbformat_minor": 2
}
